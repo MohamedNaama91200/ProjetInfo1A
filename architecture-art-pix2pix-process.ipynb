{
 "cells": [
  {
   "cell_type": "code",
   "execution_count": 3,
   "metadata": {
    "_cell_guid": "b1076dfc-b9ad-4769-8c92-a6c4dae69d19",
    "_uuid": "8f2839f25d086af736a60e9eeb907d3b93b6e0e5",
    "execution": {
     "iopub.execute_input": "2022-02-08T15:50:39.570328Z",
     "iopub.status.busy": "2022-02-08T15:50:39.56997Z",
     "iopub.status.idle": "2022-02-08T15:50:58.137021Z",
     "shell.execute_reply": "2022-02-08T15:50:58.136156Z",
     "shell.execute_reply.started": "2022-02-08T15:50:39.570294Z"
    }
   },
   "outputs": [],
   "source": [
    "#!pip install git+https://github.com/tensorflow/examples.git"
   ]
  },
  {
   "cell_type": "markdown",
   "metadata": {},
   "source": [
    "<span style = 'color : red'>Ici on installe tensorflow depuis git hub : Bibliothèque de machine learning axée sur la reconnaissance d'images (Computer vision). On y ajoute d'autres packages qui seront utiles pour le programme\n",
    "    \n",
    "    "
   ]
  },
  {
   "cell_type": "markdown",
   "metadata": {},
   "source": [
    "# Reco"
   ]
  },
  {
   "cell_type": "code",
   "execution_count": 2,
   "metadata": {
    "execution": {
     "iopub.execute_input": "2022-02-08T15:51:13.396771Z",
     "iopub.status.busy": "2022-02-08T15:51:13.395592Z",
     "iopub.status.idle": "2022-02-08T15:51:13.408271Z",
     "shell.execute_reply": "2022-02-08T15:51:13.406694Z",
     "shell.execute_reply.started": "2022-02-08T15:51:13.396678Z"
    }
   },
   "outputs": [
    {
     "ename": "ModuleNotFoundError",
     "evalue": "No module named 'tensorflow'",
     "output_type": "error",
     "traceback": [
      "\u001b[1;31m---------------------------------------------------------------------------\u001b[0m",
      "\u001b[1;31mModuleNotFoundError\u001b[0m                       Traceback (most recent call last)",
      "\u001b[1;32m<ipython-input-2-d8c80b7f7835>\u001b[0m in \u001b[0;36m<module>\u001b[1;34m\u001b[0m\n\u001b[0;32m     23\u001b[0m \u001b[1;31m# I PACKAGES (on )\u001b[0m\u001b[1;33m\u001b[0m\u001b[1;33m\u001b[0m\u001b[1;33m\u001b[0m\u001b[0m\n\u001b[0;32m     24\u001b[0m \u001b[1;33m\u001b[0m\u001b[0m\n\u001b[1;32m---> 25\u001b[1;33m \u001b[1;32mimport\u001b[0m \u001b[0mtensorflow\u001b[0m \u001b[1;32mas\u001b[0m \u001b[0mtf\u001b[0m\u001b[1;33m\u001b[0m\u001b[1;33m\u001b[0m\u001b[0m\n\u001b[0m\u001b[0;32m     26\u001b[0m \u001b[1;32mimport\u001b[0m \u001b[0mtensorflow\u001b[0m\u001b[1;33m.\u001b[0m\u001b[0mkeras\u001b[0m \u001b[1;31m#Keras est une API de réseau de neurones écrite en langage Python. Il s’agit d’une bibliothèque\u001b[0m\u001b[1;33m\u001b[0m\u001b[1;33m\u001b[0m\u001b[0m\n\u001b[0;32m     27\u001b[0m \u001b[1;31m#Open Source, exécutée par-dessus des frameworks tels que TensorFlow comme ici.\u001b[0m\u001b[1;33m\u001b[0m\u001b[1;33m\u001b[0m\u001b[1;33m\u001b[0m\u001b[0m\n",
      "\u001b[1;31mModuleNotFoundError\u001b[0m: No module named 'tensorflow'"
     ]
    }
   ],
   "source": [
    "# GENERAL\n",
    "\n",
    "import os # Module qui permet à Python d'intéragir avec le système d'exploitation, par exemple pour obtenir des chemins\n",
    "# de fichiers.\n",
    "import os.path\n",
    "from pathlib import Path #Ajout d'autres fonctionnalités liés à la gestion de fichiers.\n",
    "import time #Module fournit des fonctions liées au temps comme la fonction time() \n",
    "import pandas as pd #Module très important dans l'analyse de données (sous forme de dataframes)\n",
    "import numpy as np #Module classique mathématique\n",
    "import random\n",
    "import time\n",
    "import math\n",
    "import glob #Module permettant de naviguer/sélectionner un certains type de fichiers selon des critères définis.\n",
    "import cv2 #Module important pour le traitement d'images\n",
    "from IPython.display import clear_output #API publique pour les outils d’affichage dans IPython.\n",
    "\n",
    "\n",
    "import matplotlib.pyplot as plt #Module classique pour le tracé de graphiques.\n",
    "import matplotlib.animation as animation\n",
    "from IPython.display import HTML #Permet à Python de supporter les objets en HTML\n",
    "\n",
    "\n",
    "# I PACKAGES (on )\n",
    "\n",
    "import tensorflow as tf\n",
    "import tensorflow.keras #Keras est une API de réseau de neurones écrite en langage Python. Il s’agit d’une bibliothèque \n",
    "#Open Source, exécutée par-dessus des frameworks tels que TensorFlow comme ici.\n",
    "\n",
    "\n",
    "from tensorflow.keras import backend as K\n",
    "from tensorflow.keras.models import Sequential\n",
    "from tensorflow.keras.models import Model\n",
    "from tensorflow.keras.layers import Dense, Dropout, Flatten, Conv2D, MaxPool2D, BatchNormalization,MaxPooling2D,BatchNormalization,\\\n",
    "                        Permute, TimeDistributed, Bidirectional,GRU, SimpleRNN,\\\n",
    "LSTM, GlobalAveragePooling2D, SeparableConv2D, ZeroPadding2D, Convolution2D, ZeroPadding2D,Reshape, Conv2DTranspose, LeakyReLU, ReLU, Conv2DTranspose\n",
    "from tensorflow.keras import models\n",
    "from tensorflow.keras import layers\n",
    "from tensorflow_examples.models.pix2pix import pix2pix\n",
    "\n",
    "# WARNINGS\n",
    "\n",
    "from warnings import filterwarnings\n",
    "filterwarnings(\"ignore\",category=DeprecationWarning)\n",
    "filterwarnings(\"ignore\", category=FutureWarning) \n",
    "filterwarnings(\"ignore\", category=UserWarning)\n",
    "\n",
    "\n",
    "AUTOTUNE = tf.data.AUTOTUNE"
   ]
  },
  {
   "cell_type": "markdown",
   "metadata": {},
   "source": [
    "# BEFORE TRAINING : Initialisation du modèle\n"
   ]
  },
  {
   "cell_type": "code",
   "execution_count": null,
   "metadata": {
    "execution": {
     "iopub.execute_input": "2022-02-08T15:51:15.913462Z",
     "iopub.status.busy": "2022-02-08T15:51:15.912884Z",
     "iopub.status.idle": "2022-02-08T15:51:15.919704Z",
     "shell.execute_reply": "2022-02-08T15:51:15.918617Z",
     "shell.execute_reply.started": "2022-02-08T15:51:15.913429Z"
    }
   },
   "outputs": [],
   "source": [
    "BYZANTINE_ARC_PATH = Path(\"../input/architecture-dataset/arcDataset/Byzantine architecture\")\n",
    "GOTHIC_ARC_PATH = Path(\"../input/architecture-dataset/arcDataset/Gothic architecture\")"
   ]
  },
  {
   "cell_type": "markdown",
   "metadata": {},
   "source": [
    "<span style='color : red'>\n",
    "    Ici on associe à la variable BYZANTINE_ARC_PATH le chemin d'accès pour pouvoir récuperer la database. ( idm pour la data base gothique )"
   ]
  },
  {
   "cell_type": "code",
   "execution_count": null,
   "metadata": {
    "execution": {
     "iopub.execute_input": "2022-02-08T15:51:17.095376Z",
     "iopub.status.busy": "2022-02-08T15:51:17.094856Z",
     "iopub.status.idle": "2022-02-08T15:51:17.195946Z",
     "shell.execute_reply": "2022-02-08T15:51:17.195113Z",
     "shell.execute_reply.started": "2022-02-08T15:51:17.095332Z"
    }
   },
   "outputs": [],
   "source": [
    "BYZANTINE_JPG_LIST = list(BYZANTINE_ARC_PATH.glob(r\"*.jpg\")) #La méthode .glob() permet de sélectionner tout les élements commençant par \"*.jpg\"\n",
    "GOTHIC_JPG_LIST = list(GOTHIC_ARC_PATH.glob(r\"*.jpg\"))"
   ]
  },
  {
   "cell_type": "markdown",
   "metadata": {},
   "source": [
    "<span style='color : red'>Mise sous forme de liste les différentes images"
   ]
  },
  {
   "cell_type": "code",
   "execution_count": null,
   "metadata": {
    "execution": {
     "iopub.execute_input": "2022-02-08T15:51:18.035436Z",
     "iopub.status.busy": "2022-02-08T15:51:18.035104Z",
     "iopub.status.idle": "2022-02-08T15:51:18.042406Z",
     "shell.execute_reply": "2022-02-08T15:51:18.041177Z",
     "shell.execute_reply.started": "2022-02-08T15:51:18.035402Z"
    }
   },
   "outputs": [],
   "source": [
    "print(len(BYZANTINE_JPG_LIST))\n",
    "print(len(GOTHIC_JPG_LIST))"
   ]
  },
  {
   "cell_type": "markdown",
   "metadata": {},
   "source": [
    "<span style='color : red'>Affiche la longeur des listes pour savoir le nombre de ressources disponibles"
   ]
  },
  {
   "cell_type": "code",
   "execution_count": null,
   "metadata": {
    "execution": {
     "iopub.execute_input": "2022-02-08T15:51:18.89246Z",
     "iopub.status.busy": "2022-02-08T15:51:18.891905Z",
     "iopub.status.idle": "2022-02-08T15:51:18.896682Z",
     "shell.execute_reply": "2022-02-08T15:51:18.895697Z",
     "shell.execute_reply.started": "2022-02-08T15:51:18.892423Z"
    }
   },
   "outputs": [],
   "source": [
    "GOTHIC_JPG_LIST = GOTHIC_JPG_LIST[:83]"
   ]
  },
  {
   "cell_type": "markdown",
   "metadata": {},
   "source": [
    "<span style='color : red'>On tronque la database Gothique aux 84 premiers élements car la liste gothique est plus longue que la liste byzantine"
   ]
  },
  {
   "cell_type": "code",
   "execution_count": 1,
   "metadata": {
    "execution": {
     "iopub.execute_input": "2022-02-08T15:51:19.694646Z",
     "iopub.status.busy": "2022-02-08T15:51:19.694334Z",
     "iopub.status.idle": "2022-02-08T15:51:19.70049Z",
     "shell.execute_reply": "2022-02-08T15:51:19.699501Z",
     "shell.execute_reply.started": "2022-02-08T15:51:19.694615Z"
    }
   },
   "outputs": [
    {
     "ename": "NameError",
     "evalue": "name 'GOTHIC_JPG_LIST' is not defined",
     "output_type": "error",
     "traceback": [
      "\u001b[1;31m---------------------------------------------------------------------------\u001b[0m",
      "\u001b[1;31mNameError\u001b[0m                                 Traceback (most recent call last)",
      "\u001b[1;32m<ipython-input-1-a6f6a222c1c1>\u001b[0m in \u001b[0;36m<module>\u001b[1;34m\u001b[0m\n\u001b[1;32m----> 1\u001b[1;33m \u001b[0mprint\u001b[0m\u001b[1;33m(\u001b[0m\u001b[0mlen\u001b[0m\u001b[1;33m(\u001b[0m\u001b[0mGOTHIC_JPG_LIST\u001b[0m\u001b[1;33m)\u001b[0m \u001b[1;33m==\u001b[0m \u001b[0mlen\u001b[0m\u001b[1;33m(\u001b[0m\u001b[0mBYZANTINE_JPG_LIST\u001b[0m\u001b[1;33m)\u001b[0m\u001b[1;33m)\u001b[0m\u001b[1;33m\u001b[0m\u001b[1;33m\u001b[0m\u001b[0m\n\u001b[0m",
      "\u001b[1;31mNameError\u001b[0m: name 'GOTHIC_JPG_LIST' is not defined"
     ]
    }
   ],
   "source": [
    "print(len(GOTHIC_JPG_LIST) == len(BYZANTINE_JPG_LIST))"
   ]
  },
  {
   "cell_type": "markdown",
   "metadata": {},
   "source": [
    "<span style='color : red'>verifie si les liste sont de mm longueur"
   ]
  },
  {
   "cell_type": "markdown",
   "metadata": {},
   "source": []
  },
  {
   "cell_type": "code",
   "execution_count": null,
   "metadata": {
    "execution": {
     "iopub.execute_input": "2022-02-08T15:51:20.514353Z",
     "iopub.status.busy": "2022-02-08T15:51:20.513239Z",
     "iopub.status.idle": "2022-02-08T15:51:20.526794Z",
     "shell.execute_reply": "2022-02-08T15:51:20.525807Z",
     "shell.execute_reply.started": "2022-02-08T15:51:20.514296Z"
    }
   },
   "outputs": [],
   "source": [
    "GOTHIC_SERIES = pd.Series(GOTHIC_JPG_LIST,name=\"GOTHIC\").astype(str) \n",
    "BYZANTINE_SERIES = pd.Series(BYZANTINE_JPG_LIST,name=\"BYZANTINE\").astype(str)\n",
    "\n",
    "MAIN_ARC = pd.concat([BYZANTINE_SERIES,GOTHIC_SERIES],axis=1)"
   ]
  },
  {
   "cell_type": "markdown",
   "metadata": {},
   "source": [
    "<span style='color : red'>convertie les type des series du dataframe en string. Et on les concatène selon axis 1 (selon les abscisses)"
   ]
  },
  {
   "cell_type": "code",
   "execution_count": null,
   "metadata": {
    "execution": {
     "iopub.execute_input": "2022-02-08T16:05:46.283796Z",
     "iopub.status.busy": "2022-02-08T16:05:46.283373Z",
     "iopub.status.idle": "2022-02-08T16:05:46.300554Z",
     "shell.execute_reply": "2022-02-08T16:05:46.299562Z",
     "shell.execute_reply.started": "2022-02-08T16:05:46.283753Z"
    }
   },
   "outputs": [],
   "source": [
    "MAIN_ARC"
   ]
  },
  {
   "cell_type": "markdown",
   "metadata": {},
   "source": [
    "<span style='color : red'>affiche le dataframe"
   ]
  },
  {
   "cell_type": "code",
   "execution_count": null,
   "metadata": {
    "execution": {
     "iopub.execute_input": "2022-02-08T15:51:24.295216Z",
     "iopub.status.busy": "2022-02-08T15:51:24.294318Z",
     "iopub.status.idle": "2022-02-08T15:51:25.972789Z",
     "shell.execute_reply": "2022-02-08T15:51:25.971717Z",
     "shell.execute_reply.started": "2022-02-08T15:51:24.295181Z"
    }
   },
   "outputs": [],
   "source": [
    "figure,axis = plt.subplots(3,3,figsize=(14,14)) #Création du plot à 3 à 4\n",
    "\n",
    "for i_ind,i_ops in enumerate(axis.flat):\n",
    "    \n",
    "    IMAGE_READING = cv2.cvtColor(cv2.imread(MAIN_ARC[\"BYZANTINE\"][i_ind]),cv2.COLOR_BGR2RGB)\n",
    "    i_ops.set_title(\"BYZANTINE\")\n",
    "    i_ops.axis(\"off\")\n",
    "    i_ops.imshow(IMAGE_READING)\n",
    "    \n",
    "plt.tight_layout()\n",
    "plt.show()    "
   ]
  },
  {
   "cell_type": "code",
   "execution_count": null,
   "metadata": {
    "execution": {
     "iopub.execute_input": "2022-02-08T15:51:38.775803Z",
     "iopub.status.busy": "2022-02-08T15:51:38.775443Z",
     "iopub.status.idle": "2022-02-08T15:51:42.057007Z",
     "shell.execute_reply": "2022-02-08T15:51:42.056265Z",
     "shell.execute_reply.started": "2022-02-08T15:51:38.775772Z"
    }
   },
   "outputs": [],
   "source": [
    "figure,axis = plt.subplots(3,3,figsize=(14,14))\n",
    "\n",
    "for i_ind,i_ops in enumerate(axis.flat):\n",
    "    \n",
    "    IMAGE_READING = cv2.cvtColor(cv2.imread(MAIN_ARC[\"GOTHIC\"][i_ind]),cv2.COLOR_BGR2RGB)\n",
    "    i_ops.set_title(\"GOTHIC\")\n",
    "    i_ops.axis(\"off\")\n",
    "    i_ops.imshow(IMAGE_READING)\n",
    "    \n",
    "plt.tight_layout()\n",
    "plt.show()    "
   ]
  },
  {
   "cell_type": "markdown",
   "metadata": {},
   "source": [
    "<span style='color : red'>affiche les images"
   ]
  },
  {
   "cell_type": "markdown",
   "metadata": {},
   "source": [
    "# PREPARING : Préparation de l'algorithme de reconnaissance \n"
   ]
  },
  {
   "cell_type": "raw",
   "metadata": {},
   "source": [
    "Dans la plupart des cas, il n’est pas possible d’utiliser toutes les données d’entraînement dans un algorithme en une seule fois. Cela est dû à la taille de l’ensemble de données et aux limites de mémoire de l’instance de calcul utilisée. Il faut une certaine terminologie pour mieux comprendre la meilleure façon de diviser les données en plus petits morceaux.\n",
    "\n",
    "Un EPOCH s’écoule quand un ensemble de données entier est passé en avant et en arrière à travers le réseau neuronal exactement une fois. Si l’ensemble de données entier ne peut pas être passé dans l’algorithme à la fois, il doit être divisé en mini-lots. \n",
    "\n",
    "La BATCH SIZE est le nombre total d’échantillons de formation présents dans un seul lot minimal. Une itération est une mise à jour de gradient unique (mise à jour des poids du modèle) pendant la formation. Le nombre d’itérations est équivalent au nombre de lots nécessaires pour compléter une époque.\n",
    "Donc, si un ensemble de données comprend 1000 images divisées en mini-lots de 100 images, il faudra 10 itérations pour compléter une seule époque.\n",
    "\n",
    "\n",
    "\n"
   ]
  },
  {
   "cell_type": "code",
   "execution_count": null,
   "metadata": {
    "execution": {
     "iopub.execute_input": "2022-02-07T15:21:09.093195Z",
     "iopub.status.busy": "2022-02-07T15:21:09.092564Z",
     "iopub.status.idle": "2022-02-07T15:21:09.097071Z",
     "shell.execute_reply": "2022-02-07T15:21:09.096566Z",
     "shell.execute_reply.started": "2022-02-07T15:21:09.093166Z"
    }
   },
   "outputs": [],
   "source": [
    "BUFFER_SIZE = 400\n",
    "BATCH_SIZE = 1\n",
    "IMG_WIDTH = 256\n",
    "IMG_HEIGHT = 256\n",
    "OUTPUT_CHANNELS = 3\n",
    "LAMBDA = 100\n",
    "EPOCHS = 300\n",
    "TYPE_ARRAY = \"float32\""
   ]
  },
  {
   "cell_type": "code",
   "execution_count": null,
   "metadata": {
    "execution": {
     "iopub.execute_input": "2022-02-07T15:21:09.098453Z",
     "iopub.status.busy": "2022-02-07T15:21:09.098098Z",
     "iopub.status.idle": "2022-02-07T15:21:15.168792Z",
     "shell.execute_reply": "2022-02-07T15:21:15.167818Z",
     "shell.execute_reply.started": "2022-02-07T15:21:09.098415Z"
    }
   },
   "outputs": [],
   "source": [
    "BYZANTINE_TARGET = []\n",
    "GOTHIC_TARGET = []\n",
    "\n",
    "for i_byzantine,i_gothic in zip(MAIN_ARC.BYZANTINE,MAIN_ARC.GOTHIC):\n",
    "    \n",
    "    BYZ_READING = cv2.cvtColor(cv2.imread(i_byzantine),cv2.COLOR_BGR2RGB) #On convertit nos images d'églises byzantines\n",
    "    # de BGR à RGB permettant aux images d'être compatibles avec les librairies comme TensorFlow\n",
    "    \n",
    "    et\n",
    "    GOT_READING = cv2.cvtColor(cv2.imread(i_gothic),cv2.COLOR_BGR2RGB)\n",
    "    \n",
    "    BYZ_RESIZE = cv2.resize(BYZ_READING,(IMG_WIDTH,IMG_HEIGHT))\n",
    "    GOT_RESIZE = cv2.resize(GOT_READING,(IMG_WIDTH,IMG_HEIGHT))\n",
    "    \n",
    "    BYZ_NORMALIZE = (BYZ_RESIZE / 127.5) - 1\n",
    "    GOT_NORMALIZE = (GOT_RESIZE / 127.5) - 1\n",
    "    \n",
    "    BYZANTINE_TARGET.append(BYZ_NORMALIZE)\n",
    "    GOTHIC_TARGET.append(GOT_NORMALIZE)"
   ]
  },
  {
   "cell_type": "code",
   "execution_count": null,
   "metadata": {
    "execution": {
     "iopub.execute_input": "2022-02-07T15:21:15.174712Z",
     "iopub.status.busy": "2022-02-07T15:21:15.174492Z",
     "iopub.status.idle": "2022-02-07T15:21:15.270292Z",
     "shell.execute_reply": "2022-02-07T15:21:15.2695Z",
     "shell.execute_reply.started": "2022-02-07T15:21:15.17469Z"
    }
   },
   "outputs": [],
   "source": [
    "print(np.shape(np.array(BYZANTINE_TARGET)))\n",
    "print(np.shape(np.array(GOTHIC_TARGET)))"
   ]
  },
  {
   "cell_type": "code",
   "execution_count": null,
   "metadata": {
    "execution": {
     "iopub.execute_input": "2022-02-07T15:21:15.271364Z",
     "iopub.status.busy": "2022-02-07T15:21:15.271186Z",
     "iopub.status.idle": "2022-02-07T15:21:16.356699Z",
     "shell.execute_reply": "2022-02-07T15:21:16.355911Z",
     "shell.execute_reply.started": "2022-02-07T15:21:15.271342Z"
    }
   },
   "outputs": [],
   "source": [
    "figure,axis = plt.subplots(3,3,figsize=(15,15))\n",
    "\n",
    "for x_number,x_operators in enumerate(axis.flat):\n",
    "    \n",
    "    EXAMPLE_PICKING = BYZANTINE_TARGET[x_number]\n",
    "    \n",
    "    x_operators.set_title(\"BYZANTINE\")\n",
    "    x_operators.axis(\"off\")\n",
    "    x_operators.imshow(EXAMPLE_PICKING)\n",
    "    \n",
    "plt.tight_layout()\n",
    "plt.show()"
   ]
  },
  {
   "cell_type": "code",
   "execution_count": null,
   "metadata": {
    "execution": {
     "iopub.execute_input": "2022-02-07T15:21:16.358837Z",
     "iopub.status.busy": "2022-02-07T15:21:16.357974Z",
     "iopub.status.idle": "2022-02-07T15:21:17.428031Z",
     "shell.execute_reply": "2022-02-07T15:21:17.427191Z",
     "shell.execute_reply.started": "2022-02-07T15:21:16.358797Z"
    }
   },
   "outputs": [],
   "source": [
    "figure,axis = plt.subplots(3,3,figsize=(15,15))\n",
    "\n",
    "for x_number,x_operators in enumerate(axis.flat):\n",
    "    \n",
    "    EXAMPLE_PICKING = GOTHIC_TARGET[x_number]\n",
    "    \n",
    "    x_operators.set_title(\"GOTHIC\")\n",
    "    x_operators.axis(\"off\")\n",
    "    x_operators.imshow(EXAMPLE_PICKING)\n",
    "    \n",
    "plt.tight_layout()\n",
    "plt.show()"
   ]
  },
  {
   "cell_type": "code",
   "execution_count": null,
   "metadata": {
    "execution": {
     "iopub.execute_input": "2022-02-07T15:21:17.429537Z",
     "iopub.status.busy": "2022-02-07T15:21:17.429302Z",
     "iopub.status.idle": "2022-02-07T15:21:17.496182Z",
     "shell.execute_reply": "2022-02-07T15:21:17.495504Z",
     "shell.execute_reply.started": "2022-02-07T15:21:17.429509Z"
    }
   },
   "outputs": [],
   "source": [
    "ARRAY_BYZ = np.array(BYZANTINE_TARGET,dtype=TYPE_ARRAY)\n",
    "ARRAY_GOT = np.array(GOTHIC_TARGET,dtype=TYPE_ARRAY)"
   ]
  },
  {
   "cell_type": "code",
   "execution_count": null,
   "metadata": {
    "execution": {
     "iopub.execute_input": "2022-02-07T15:21:17.497342Z",
     "iopub.status.busy": "2022-02-07T15:21:17.497133Z",
     "iopub.status.idle": "2022-02-07T15:21:17.502035Z",
     "shell.execute_reply": "2022-02-07T15:21:17.501295Z",
     "shell.execute_reply.started": "2022-02-07T15:21:17.49732Z"
    }
   },
   "outputs": [],
   "source": [
    "print(ARRAY_BYZ.shape)\n",
    "print(ARRAY_GOT.shape)"
   ]
  },
  {
   "cell_type": "code",
   "execution_count": null,
   "metadata": {
    "execution": {
     "iopub.execute_input": "2022-02-07T15:21:17.505863Z",
     "iopub.status.busy": "2022-02-07T15:21:17.503277Z",
     "iopub.status.idle": "2022-02-07T15:21:17.662261Z",
     "shell.execute_reply": "2022-02-07T15:21:17.660936Z",
     "shell.execute_reply.started": "2022-02-07T15:21:17.505826Z"
    }
   },
   "outputs": [],
   "source": [
    "BYZANTINE_TENSOR = tf.data.Dataset.from_tensor_slices(ARRAY_BYZ).shuffle(BUFFER_SIZE).batch(BATCH_SIZE)\n",
    "GOTHIC_TENSOR = tf.data.Dataset.from_tensor_slices(ARRAY_GOT).shuffle(BUFFER_SIZE).batch(BATCH_SIZE)"
   ]
  },
  {
   "cell_type": "code",
   "execution_count": null,
   "metadata": {
    "execution": {
     "iopub.execute_input": "2022-02-07T15:21:17.663834Z",
     "iopub.status.busy": "2022-02-07T15:21:17.663487Z",
     "iopub.status.idle": "2022-02-07T15:21:17.668479Z",
     "shell.execute_reply": "2022-02-07T15:21:17.667577Z",
     "shell.execute_reply.started": "2022-02-07T15:21:17.663792Z"
    }
   },
   "outputs": [],
   "source": [
    "print(BYZANTINE_TENSOR.element_spec)\n",
    "print(GOTHIC_TENSOR.element_spec)"
   ]
  },
  {
   "cell_type": "markdown",
   "metadata": {},
   "source": [
    "# LAYER FUNCTIONS : Fonctions couches de notre réseaux de neurones\n"
   ]
  },
  {
   "cell_type": "raw",
   "metadata": {},
   "source": [
    "Ici on va implémenter des algorithmes de bases pour la classifications d'images : On crée notre modèle-multi-couches.\n",
    "\n",
    "Les algorithmes de DOWNSAMPLE et de UPSAMPLE qui permettent d'augmenter/de diminuer  la taille d'une image d'un sample au sein de notre réseaux de neurones.\n",
    "\n"
   ]
  },
  {
   "cell_type": "code",
   "execution_count": null,
   "metadata": {
    "execution": {
     "iopub.execute_input": "2022-02-07T15:21:17.670356Z",
     "iopub.status.busy": "2022-02-07T15:21:17.669786Z",
     "iopub.status.idle": "2022-02-07T15:21:17.678204Z",
     "shell.execute_reply": "2022-02-07T15:21:17.677498Z",
     "shell.execute_reply.started": "2022-02-07T15:21:17.670237Z"
    }
   },
   "outputs": [],
   "source": [
    "def DOWN_SAMPLE_CREATION(filters,size,apply_batchnorm=True):\n",
    "    \n",
    "    Initializer_Kernel = tf.random_normal_initializer(0.,0.02)\n",
    "    \n",
    "    Model = Sequential() #On crée un modèle séquentiel dans la variable Model grâce a Keras\n",
    "    #Ce modèle de réseaux de neurones est séquentiel (chaque couche possède un input et un output)\n",
    "    \n",
    "    Model.add(Conv2D(filters,size,\n",
    "                     strides=2,\n",
    "                     padding=\"same\",\n",
    "                     kernel_initializer=Initializer_Kernel,\n",
    "                     use_bias=False))\n",
    "    \n",
    "    if apply_batchnorm:\n",
    "        Model.add(BatchNormalization())\n",
    "        \n",
    "        \n",
    "    return Model"
   ]
  },
  {
   "cell_type": "code",
   "execution_count": null,
   "metadata": {
    "execution": {
     "iopub.execute_input": "2022-02-07T15:21:17.679528Z",
     "iopub.status.busy": "2022-02-07T15:21:17.679245Z",
     "iopub.status.idle": "2022-02-07T15:21:17.80193Z",
     "shell.execute_reply": "2022-02-07T15:21:17.801271Z",
     "shell.execute_reply.started": "2022-02-07T15:21:17.679506Z"
    }
   },
   "outputs": [],
   "source": [
    "DOWN_MODEL = DOWN_SAMPLE_CREATION(3,4)\n",
    "RESULT_DOWN = DOWN_MODEL(tf.expand_dims(ARRAY_BYZ[0],0))"
   ]
  },
  {
   "cell_type": "code",
   "execution_count": null,
   "metadata": {
    "execution": {
     "iopub.execute_input": "2022-02-07T15:21:17.803292Z",
     "iopub.status.busy": "2022-02-07T15:21:17.803074Z",
     "iopub.status.idle": "2022-02-07T15:21:17.808399Z",
     "shell.execute_reply": "2022-02-07T15:21:17.806937Z",
     "shell.execute_reply.started": "2022-02-07T15:21:17.803268Z"
    }
   },
   "outputs": [],
   "source": [
    "print(RESULT_DOWN.shape)"
   ]
  },
  {
   "cell_type": "code",
   "execution_count": null,
   "metadata": {
    "execution": {
     "iopub.execute_input": "2022-02-07T15:21:17.810307Z",
     "iopub.status.busy": "2022-02-07T15:21:17.809928Z",
     "iopub.status.idle": "2022-02-07T15:21:17.81717Z",
     "shell.execute_reply": "2022-02-07T15:21:17.816583Z",
     "shell.execute_reply.started": "2022-02-07T15:21:17.810268Z"
    }
   },
   "outputs": [],
   "source": [
    "def UP_SAMPLE_CREATION(filters,size,apply_dropout=False):\n",
    "    \n",
    "    Initializer_Kernel = tf.random_normal_initializer(0.,0.02)\n",
    "    \n",
    "    Model = Sequential()\n",
    "    \n",
    "    Model.add(Conv2DTranspose(filters,size,\n",
    "                     strides=2,\n",
    "                     padding=\"same\",\n",
    "                     kernel_initializer=Initializer_Kernel,\n",
    "                     use_bias=False))\n",
    "    \n",
    "    Model.add(BatchNormalization())\n",
    "    \n",
    "    \n",
    "    if apply_dropout:\n",
    "        \n",
    "        Model.add(Dropout(0.3))\n",
    "        \n",
    "    Model.add(ReLU())\n",
    "    \n",
    "    return Model\n",
    "    "
   ]
  },
  {
   "cell_type": "code",
   "execution_count": null,
   "metadata": {
    "execution": {
     "iopub.execute_input": "2022-02-07T15:21:17.818933Z",
     "iopub.status.busy": "2022-02-07T15:21:17.818256Z",
     "iopub.status.idle": "2022-02-07T15:21:17.890015Z",
     "shell.execute_reply": "2022-02-07T15:21:17.889293Z",
     "shell.execute_reply.started": "2022-02-07T15:21:17.818902Z"
    }
   },
   "outputs": [],
   "source": [
    "UP_MODEL = UP_SAMPLE_CREATION(3,4)\n",
    "RESULT_UP = UP_MODEL(RESULT_DOWN)"
   ]
  },
  {
   "cell_type": "code",
   "execution_count": null,
   "metadata": {
    "execution": {
     "iopub.execute_input": "2022-02-07T15:21:17.89126Z",
     "iopub.status.busy": "2022-02-07T15:21:17.891073Z",
     "iopub.status.idle": "2022-02-07T15:21:17.895198Z",
     "shell.execute_reply": "2022-02-07T15:21:17.894533Z",
     "shell.execute_reply.started": "2022-02-07T15:21:17.891238Z"
    }
   },
   "outputs": [],
   "source": [
    "print(RESULT_UP.shape)"
   ]
  },
  {
   "cell_type": "markdown",
   "metadata": {},
   "source": [
    "# GENERATOR et DISCRIMATOR : "
   ]
  },
  {
   "cell_type": "raw",
   "metadata": {},
   "source": [
    "Dans les modèles GAN (réseaux antagonistes génératifs) que l'on utilise ici, deux réseaux de neurones sont mis en compétition :\n",
    "\n",
    "Le MODEL GENERATOR : Il génere en OUTPUT un sample d'images à partir des différents INPUTS qu'on lui donne\n",
    "Le MODEL DISCRIMINATOR : Il doit détécter et apprendre à reconnaître si un sample provient du GENERATOR ou si l'image est réelle."
   ]
  },
  {
   "cell_type": "code",
   "execution_count": null,
   "metadata": {
    "execution": {
     "iopub.execute_input": "2022-02-07T15:21:17.896761Z",
     "iopub.status.busy": "2022-02-07T15:21:17.896277Z",
     "iopub.status.idle": "2022-02-07T15:21:17.907679Z",
     "shell.execute_reply": "2022-02-07T15:21:17.907025Z",
     "shell.execute_reply.started": "2022-02-07T15:21:17.896708Z"
    }
   },
   "outputs": [],
   "source": [
    "def MODEL_GENERATOR(w_shape,h_shape,dim_shape):\n",
    "    \n",
    "    INPUT = tf.keras.layers.Input(shape=[w_shape,h_shape,dim_shape]) #On initial la première couche (layers) dans le INPUT\n",
    "    #avec les dimensions w_shape, h_shape, dim_shape.\n",
    "    \n",
    "    DOWN_STACK = [\n",
    "        \n",
    "        DOWN_SAMPLE_CREATION(64,4,apply_batchnorm=False),\n",
    "        DOWN_SAMPLE_CREATION(128,4),\n",
    "        DOWN_SAMPLE_CREATION(256,4),\n",
    "        DOWN_SAMPLE_CREATION(512,4),\n",
    "        DOWN_SAMPLE_CREATION(512,4),\n",
    "        DOWN_SAMPLE_CREATION(512,4),\n",
    "        DOWN_SAMPLE_CREATION(512,4),\n",
    "        DOWN_SAMPLE_CREATION(512,4),\n",
    "    ]\n",
    "    \n",
    "    \n",
    "    UP_STACK = [\n",
    "        \n",
    "        UP_SAMPLE_CREATION(512,4,apply_dropout=True),\n",
    "        UP_SAMPLE_CREATION(512,4,apply_dropout=True),\n",
    "        UP_SAMPLE_CREATION(512,4,apply_dropout=True),\n",
    "        UP_SAMPLE_CREATION(512,4),\n",
    "        UP_SAMPLE_CREATION(256,4),\n",
    "        UP_SAMPLE_CREATION(128,4),\n",
    "        UP_SAMPLE_CREATION(64,4),\n",
    "    ]\n",
    "    \n",
    "    \n",
    "    INITIALIZER_KERNEL = tf.random_normal_initializer(0.,0.02)\n",
    "    \n",
    "    LAST_LAY = Conv2DTranspose(OUTPUT_CHANNELS,\n",
    "                               4,\n",
    "                               strides=2,padding=\"same\",\n",
    "                              kernel_initializer=INITIALIZER_KERNEL,\n",
    "                              activation=\"tanh\")\n",
    "    \n",
    "    x = INPUT\n",
    "    \n",
    "    skips_lay = []\n",
    "    \n",
    "    for x_down in DOWN_STACK:\n",
    "        \n",
    "        x = x_down(x)\n",
    "        skips_lay.append(x)\n",
    "        \n",
    "    skips_lay = reversed(skips_lay[:-1])\n",
    "    \n",
    "    for x_up,skipping in zip(UP_STACK,skips_lay):\n",
    "        \n",
    "        x = x_up(x)\n",
    "        x = tf.keras.layers.Concatenate()([x,skipping])\n",
    "        \n",
    "    x = LAST_LAY(x)\n",
    "    \n",
    "    \n",
    "    return tf.keras.Model(inputs=INPUT,outputs=x)"
   ]
  },
  {
   "cell_type": "code",
   "execution_count": null,
   "metadata": {
    "execution": {
     "iopub.execute_input": "2022-02-07T15:21:17.909735Z",
     "iopub.status.busy": "2022-02-07T15:21:17.909235Z",
     "iopub.status.idle": "2022-02-07T15:21:19.056924Z",
     "shell.execute_reply": "2022-02-07T15:21:19.056071Z",
     "shell.execute_reply.started": "2022-02-07T15:21:17.909688Z"
    }
   },
   "outputs": [],
   "source": [
    "Generator_Model = MODEL_GENERATOR(IMG_WIDTH,IMG_HEIGHT,OUTPUT_CHANNELS)"
   ]
  },
  {
   "cell_type": "code",
   "execution_count": null,
   "metadata": {
    "execution": {
     "iopub.execute_input": "2022-02-07T15:21:19.058182Z",
     "iopub.status.busy": "2022-02-07T15:21:19.057951Z",
     "iopub.status.idle": "2022-02-07T15:21:20.012075Z",
     "shell.execute_reply": "2022-02-07T15:21:20.011071Z",
     "shell.execute_reply.started": "2022-02-07T15:21:19.058136Z"
    }
   },
   "outputs": [],
   "source": [
    "tf.keras.utils.plot_model(Generator_Model, show_shapes=True, dpi=64)"
   ]
  },
  {
   "cell_type": "code",
   "execution_count": null,
   "metadata": {
    "execution": {
     "iopub.execute_input": "2022-02-07T15:21:20.0143Z",
     "iopub.status.busy": "2022-02-07T15:21:20.014051Z",
     "iopub.status.idle": "2022-02-07T15:21:20.278588Z",
     "shell.execute_reply": "2022-02-07T15:21:20.277777Z",
     "shell.execute_reply.started": "2022-02-07T15:21:20.014272Z"
    }
   },
   "outputs": [],
   "source": [
    "OUTPUT_GENERATOR_EXAMPLE = Generator_Model(ARRAY_BYZ[0][tf.newaxis,...],training=False)"
   ]
  },
  {
   "cell_type": "code",
   "execution_count": null,
   "metadata": {
    "execution": {
     "iopub.execute_input": "2022-02-07T15:21:20.280581Z",
     "iopub.status.busy": "2022-02-07T15:21:20.280311Z",
     "iopub.status.idle": "2022-02-07T15:21:20.535937Z",
     "shell.execute_reply": "2022-02-07T15:21:20.535132Z",
     "shell.execute_reply.started": "2022-02-07T15:21:20.280545Z"
    }
   },
   "outputs": [],
   "source": [
    "plt.figure(figsize=(8,8))\n",
    "plt.axis(\"off\")\n",
    "plt.imshow(OUTPUT_GENERATOR_EXAMPLE[0])\n",
    "plt.show()"
   ]
  },
  {
   "cell_type": "code",
   "execution_count": null,
   "metadata": {
    "execution": {
     "iopub.execute_input": "2022-02-07T15:21:20.537912Z",
     "iopub.status.busy": "2022-02-07T15:21:20.537609Z",
     "iopub.status.idle": "2022-02-07T15:21:20.549444Z",
     "shell.execute_reply": "2022-02-07T15:21:20.548598Z",
     "shell.execute_reply.started": "2022-02-07T15:21:20.537876Z"
    }
   },
   "outputs": [],
   "source": [
    "def MODEL_DISCRIMINATOR(w_shape,h_shape,dim_shape):\n",
    "    \n",
    "    INITIALIZER_KERNEL = tf.random_normal_initializer(0.,0.02)\n",
    "    \n",
    "    INPUT = tf.keras.layers.Input(shape=[w_shape,h_shape,dim_shape],name=\"INPUT_IMAGE\")\n",
    "    TARGET = tf.keras.layers.Input(shape=[w_shape,h_shape,dim_shape],name=\"TARGET_IMAGE\")\n",
    "    \n",
    "    \n",
    "    x = tf.keras.layers.concatenate([INPUT,TARGET])\n",
    "    \n",
    "    DOWN_L_1 = DOWN_SAMPLE_CREATION(64,4,False)(x)\n",
    "    DOWN_L_2 = DOWN_SAMPLE_CREATION(64,4)(DOWN_L_1)\n",
    "    DOWN_L_3 = DOWN_SAMPLE_CREATION(64,4)(DOWN_L_2)\n",
    "    \n",
    "    ZERO_PADDING_1 = tf.keras.layers.ZeroPadding2D()(DOWN_L_3)\n",
    "    CONV2D_1 = Conv2D(512,\n",
    "                      4,\n",
    "                      strides=1,\n",
    "                      kernel_initializer=INITIALIZER_KERNEL,\n",
    "                     use_bias=False)(ZERO_PADDING_1)\n",
    "    \n",
    "    BATCHNORM_1 = BatchNormalization()(CONV2D_1)\n",
    "    LEAKY_RELU_1 = LeakyReLU()(BATCHNORM_1)\n",
    "    \n",
    "    ZERO_PADDING_2 = tf.keras.layers.ZeroPadding2D()(LEAKY_RELU_1)\n",
    "    \n",
    "    LAST_LAY = Conv2D(1,\n",
    "                      4,\n",
    "                      strides=1,\n",
    "                      kernel_initializer=INITIALIZER_KERNEL)(ZERO_PADDING_2)\n",
    "    \n",
    "    \n",
    "    return tf.keras.Model(inputs=[INPUT,TARGET],outputs=LAST_LAY)"
   ]
  },
  {
   "cell_type": "code",
   "execution_count": null,
   "metadata": {
    "execution": {
     "iopub.execute_input": "2022-02-07T15:21:20.551104Z",
     "iopub.status.busy": "2022-02-07T15:21:20.55084Z",
     "iopub.status.idle": "2022-02-07T15:21:20.892876Z",
     "shell.execute_reply": "2022-02-07T15:21:20.892105Z",
     "shell.execute_reply.started": "2022-02-07T15:21:20.551072Z"
    }
   },
   "outputs": [],
   "source": [
    "Discriminator_Model = MODEL_DISCRIMINATOR(IMG_WIDTH,IMG_HEIGHT,OUTPUT_CHANNELS)"
   ]
  },
  {
   "cell_type": "code",
   "execution_count": null,
   "metadata": {
    "execution": {
     "iopub.execute_input": "2022-02-07T15:21:20.894285Z",
     "iopub.status.busy": "2022-02-07T15:21:20.894057Z",
     "iopub.status.idle": "2022-02-07T15:21:21.068756Z",
     "shell.execute_reply": "2022-02-07T15:21:21.067758Z",
     "shell.execute_reply.started": "2022-02-07T15:21:20.894263Z"
    }
   },
   "outputs": [],
   "source": [
    "tf.keras.utils.plot_model(Discriminator_Model, show_shapes=True, dpi=64)"
   ]
  },
  {
   "cell_type": "code",
   "execution_count": null,
   "metadata": {
    "execution": {
     "iopub.execute_input": "2022-02-07T15:21:21.070679Z",
     "iopub.status.busy": "2022-02-07T15:21:21.070443Z",
     "iopub.status.idle": "2022-02-07T15:21:21.115539Z",
     "shell.execute_reply": "2022-02-07T15:21:21.114811Z",
     "shell.execute_reply.started": "2022-02-07T15:21:21.070652Z"
    }
   },
   "outputs": [],
   "source": [
    "OUTPUT_DISCRIMINATOR_EXAMPLE = Discriminator_Model([ARRAY_BYZ[0][tf.newaxis,...],OUTPUT_GENERATOR_EXAMPLE],\n",
    "                                                   training=False)"
   ]
  },
  {
   "cell_type": "code",
   "execution_count": null,
   "metadata": {
    "execution": {
     "iopub.execute_input": "2022-02-07T15:21:21.117198Z",
     "iopub.status.busy": "2022-02-07T15:21:21.116926Z",
     "iopub.status.idle": "2022-02-07T15:21:21.242084Z",
     "shell.execute_reply": "2022-02-07T15:21:21.241264Z",
     "shell.execute_reply.started": "2022-02-07T15:21:21.11717Z"
    }
   },
   "outputs": [],
   "source": [
    "plt.figure(figsize=(8,8))\n",
    "plt.axis(\"off\")\n",
    "plt.imshow(OUTPUT_DISCRIMINATOR_EXAMPLE[0,...,-1],cmap='RdBu_r')\n",
    "plt.show()"
   ]
  },
  {
   "cell_type": "markdown",
   "metadata": {},
   "source": [
    "# LOSS FUNCTION : Fonction de coût de l'algorithme\n"
   ]
  },
  {
   "cell_type": "code",
   "execution_count": null,
   "metadata": {},
   "outputs": [],
   "source": []
  },
  {
   "cell_type": "code",
   "execution_count": null,
   "metadata": {
    "execution": {
     "iopub.execute_input": "2022-02-07T15:21:21.244144Z",
     "iopub.status.busy": "2022-02-07T15:21:21.243651Z",
     "iopub.status.idle": "2022-02-07T15:21:21.24844Z",
     "shell.execute_reply": "2022-02-07T15:21:21.247646Z",
     "shell.execute_reply.started": "2022-02-07T15:21:21.244099Z"
    }
   },
   "outputs": [],
   "source": [
    "LOSS_FUNCTION = tf.keras.losses.BinaryCrossentropy(from_logits=True)"
   ]
  },
  {
   "cell_type": "code",
   "execution_count": null,
   "metadata": {
    "execution": {
     "iopub.execute_input": "2022-02-07T15:21:21.250317Z",
     "iopub.status.busy": "2022-02-07T15:21:21.249854Z",
     "iopub.status.idle": "2022-02-07T15:21:21.260305Z",
     "shell.execute_reply": "2022-02-07T15:21:21.259269Z",
     "shell.execute_reply.started": "2022-02-07T15:21:21.250276Z"
    }
   },
   "outputs": [],
   "source": [
    "def Generator_Loss(discriminator_output,generator_output,target):\n",
    "    \n",
    "    GAN_LOSS = LOSS_FUNCTION(tf.ones_like(discriminator_output),discriminator_output)\n",
    "    \n",
    "    L1_MEAN_ABS_ERROR = tf.reduce_mean(tf.abs(target-generator_output))\n",
    "    \n",
    "    TOTAL_LOSS = GAN_LOSS + (LAMBDA * L1_MEAN_ABS_ERROR)\n",
    "    \n",
    "    return TOTAL_LOSS,GAN_LOSS,L1_MEAN_ABS_ERROR"
   ]
  },
  {
   "cell_type": "code",
   "execution_count": null,
   "metadata": {
    "execution": {
     "iopub.execute_input": "2022-02-07T15:21:21.262293Z",
     "iopub.status.busy": "2022-02-07T15:21:21.261484Z",
     "iopub.status.idle": "2022-02-07T15:21:21.27264Z",
     "shell.execute_reply": "2022-02-07T15:21:21.271965Z",
     "shell.execute_reply.started": "2022-02-07T15:21:21.262251Z"
    }
   },
   "outputs": [],
   "source": [
    "def Discriminator_Loss(real_out,generated_out):\n",
    "    \n",
    "    REAL_LOSS = LOSS_FUNCTION(tf.ones_like(real_out),real_out)\n",
    "    GEN_LOSS = LOSS_FUNCTION(tf.zeros_like(generated_out),generated_out)\n",
    "    \n",
    "    TOTAL_LOSS = REAL_LOSS + GEN_LOSS\n",
    "    \n",
    "    return TOTAL_LOSS"
   ]
  },
  {
   "cell_type": "markdown",
   "metadata": {},
   "source": [
    "# OPTIMIZER AND GENERATED IMAGE"
   ]
  },
  {
   "cell_type": "code",
   "execution_count": null,
   "metadata": {
    "execution": {
     "iopub.execute_input": "2022-02-07T15:21:21.273893Z",
     "iopub.status.busy": "2022-02-07T15:21:21.273647Z",
     "iopub.status.idle": "2022-02-07T15:21:21.283098Z",
     "shell.execute_reply": "2022-02-07T15:21:21.282562Z",
     "shell.execute_reply.started": "2022-02-07T15:21:21.27387Z"
    }
   },
   "outputs": [],
   "source": [
    "GENERATOR_OPTIMIZER = tf.keras.optimizers.Adam(lr=0.0003, beta_1=0.5)\n",
    "DISCRIMINATOR_OPTIMIZER = tf.keras.optimizers.Adam(lr=0.0003, beta_1=0.5)"
   ]
  },
  {
   "cell_type": "code",
   "execution_count": null,
   "metadata": {
    "execution": {
     "iopub.execute_input": "2022-02-07T15:21:21.288194Z",
     "iopub.status.busy": "2022-02-07T15:21:21.28749Z",
     "iopub.status.idle": "2022-02-07T15:21:21.295566Z",
     "shell.execute_reply": "2022-02-07T15:21:21.295024Z",
     "shell.execute_reply.started": "2022-02-07T15:21:21.288149Z"
    }
   },
   "outputs": [],
   "source": [
    "os.mkdir(\"./TRIP\")\n",
    "def generate_images_for_example(model, test_input, tar, number_i):\n",
    "    \n",
    "    prediction = model(test_input, training=True)\n",
    "    \n",
    "    RESULT_IN_OUT_LIST = [test_input[0], tar[0], prediction[0]]\n",
    "    \n",
    "    \n",
    "    figure,axis = plt.subplots(1, 3,figsize=(14,14))\n",
    "\n",
    "    axis[0].imshow(RESULT_IN_OUT_LIST[0] * 0.5 + 0.5)\n",
    "    axis[0].axis('off')\n",
    "\n",
    "    axis[1].imshow(RESULT_IN_OUT_LIST[1] * 0.5 + 0.5)\n",
    "    axis[1].axis('off')\n",
    "\n",
    "    axis[2].imshow(RESULT_IN_OUT_LIST[2] * 0.5 + 0.5)\n",
    "    axis[2].axis('off')\n",
    "    plt.savefig('./TRIP/trip_{:04d}.png'.format(number_i))\n",
    "    plt.tight_layout()\n",
    "    plt.show()"
   ]
  },
  {
   "cell_type": "code",
   "execution_count": null,
   "metadata": {
    "execution": {
     "iopub.execute_input": "2022-02-07T15:21:21.297238Z",
     "iopub.status.busy": "2022-02-07T15:21:21.296687Z",
     "iopub.status.idle": "2022-02-07T15:21:21.306815Z",
     "shell.execute_reply": "2022-02-07T15:21:21.306078Z",
     "shell.execute_reply.started": "2022-02-07T15:21:21.297198Z"
    }
   },
   "outputs": [],
   "source": [
    "os.mkdir(\"./SINGLE\")\n",
    "def generate_images_single(model, test_input, tar, number_i):\n",
    "    \n",
    "    prediction = model(test_input, training=True)\n",
    "    \n",
    "    plt.figure(figsize=(15, 15))\n",
    "    plt.imshow(prediction[0] * 0.5 + 0.5)\n",
    "    plt.savefig('./SINGLE/single_{:04d}.png'.format(number_i))\n",
    "    plt.axis('off')\n",
    "    plt.tight_layout()    \n",
    "    plt.show()"
   ]
  },
  {
   "cell_type": "code",
   "execution_count": null,
   "metadata": {
    "execution": {
     "iopub.execute_input": "2022-02-07T15:21:21.308229Z",
     "iopub.status.busy": "2022-02-07T15:21:21.308015Z",
     "iopub.status.idle": "2022-02-07T15:21:21.316981Z",
     "shell.execute_reply": "2022-02-07T15:21:21.316051Z",
     "shell.execute_reply.started": "2022-02-07T15:21:21.308198Z"
    }
   },
   "outputs": [],
   "source": [
    "def generate_images(model, test_input, tar, number_i):\n",
    "    \n",
    "    prediction = model(test_input, training=True)\n",
    "    \n",
    "    plt.figure(figsize=(15, 15))\n",
    "    plt.imshow(prediction[0] * 0.5 + 0.5)\n",
    "    plt.savefig('output_{:04d}.png'.format(number_i))\n",
    "    plt.axis('off')\n",
    "    plt.tight_layout()    \n",
    "    plt.show()"
   ]
  },
  {
   "cell_type": "code",
   "execution_count": null,
   "metadata": {
    "execution": {
     "iopub.execute_input": "2022-02-07T15:21:21.320484Z",
     "iopub.status.busy": "2022-02-07T15:21:21.31805Z",
     "iopub.status.idle": "2022-02-07T15:21:22.360991Z",
     "shell.execute_reply": "2022-02-07T15:21:22.360454Z",
     "shell.execute_reply.started": "2022-02-07T15:21:21.320445Z"
    }
   },
   "outputs": [],
   "source": [
    "for x_input,x_output in zip(BYZANTINE_TENSOR.take(1),GOTHIC_TENSOR.take(1)):\n",
    "    \n",
    "    generate_images_for_example(Generator_Model,x_input,x_output,1000000)"
   ]
  },
  {
   "cell_type": "code",
   "execution_count": null,
   "metadata": {
    "execution": {
     "iopub.execute_input": "2022-02-07T15:21:22.362678Z",
     "iopub.status.busy": "2022-02-07T15:21:22.362007Z",
     "iopub.status.idle": "2022-02-07T15:21:23.264347Z",
     "shell.execute_reply": "2022-02-07T15:21:23.263494Z",
     "shell.execute_reply.started": "2022-02-07T15:21:22.362646Z"
    }
   },
   "outputs": [],
   "source": [
    "for x_input,x_output in zip(BYZANTINE_TENSOR.take(1),GOTHIC_TENSOR.take(1)):\n",
    "    \n",
    "    generate_images(Generator_Model,x_input,x_output,1000000)"
   ]
  },
  {
   "cell_type": "markdown",
   "metadata": {},
   "source": [
    "# TRAINING FUNCTION"
   ]
  },
  {
   "cell_type": "code",
   "execution_count": null,
   "metadata": {
    "execution": {
     "iopub.execute_input": "2022-02-07T15:21:23.266105Z",
     "iopub.status.busy": "2022-02-07T15:21:23.265687Z",
     "iopub.status.idle": "2022-02-07T15:21:23.275518Z",
     "shell.execute_reply": "2022-02-07T15:21:23.274818Z",
     "shell.execute_reply.started": "2022-02-07T15:21:23.26607Z"
    }
   },
   "outputs": [],
   "source": [
    "@tf.function\n",
    "\n",
    "def Training_Step(INPUT_IMG,TARGET_IMG,EPOCH):\n",
    "    \n",
    "    with tf.GradientTape() as GEN_TAPE, tf.GradientTape() as DISC_TAPE:\n",
    "        \n",
    "        GENERATOR_OUT = Generator_Model(INPUT_IMG,training=True)\n",
    "        \n",
    "        DISCRIMINATOR_REAL = Discriminator_Model([INPUT_IMG,TARGET_IMG],training=True)\n",
    "        DISCRIMINATOR_GENERATED = Discriminator_Model([INPUT_IMG,GENERATOR_OUT],training=True)\n",
    "        \n",
    "        GEN_TOTAL_LOSS,GEN_GENERATOR_LOSS, GEN_L1_MEAN_ABS = Generator_Loss(DISCRIMINATOR_GENERATED,\n",
    "                                                                           GENERATOR_OUT,\n",
    "                                                                            TARGET_IMG)\n",
    "        \n",
    "        DISC_LOSS = Discriminator_Loss(DISCRIMINATOR_REAL,DISCRIMINATOR_GENERATED)\n",
    "        \n",
    "        \n",
    "    Generator_Gradients = GEN_TAPE.gradient(GEN_TOTAL_LOSS,Generator_Model.trainable_variables)\n",
    "    Discriminator_Gradients = DISC_TAPE.gradient(DISC_LOSS,Discriminator_Model.trainable_variables)\n",
    "    \n",
    "    GENERATOR_OPTIMIZER.apply_gradients(zip(Generator_Gradients,Generator_Model.trainable_variables))\n",
    "    DISCRIMINATOR_OPTIMIZER.apply_gradients(zip(Discriminator_Gradients,Discriminator_Model.trainable_variables))"
   ]
  },
  {
   "cell_type": "markdown",
   "metadata": {},
   "source": [
    "#### YOU CAN USE AS A FUNCTION IF YOU WANT"
   ]
  },
  {
   "cell_type": "code",
   "execution_count": null,
   "metadata": {
    "execution": {
     "iopub.execute_input": "2022-02-07T15:21:23.277385Z",
     "iopub.status.busy": "2022-02-07T15:21:23.276968Z",
     "iopub.status.idle": "2022-02-07T15:21:23.286595Z",
     "shell.execute_reply": "2022-02-07T15:21:23.285935Z",
     "shell.execute_reply.started": "2022-02-07T15:21:23.277349Z"
    }
   },
   "outputs": [],
   "source": [
    "def Training_Start(TRAIN_DATA,TARGET_DATA,EPOCH):\n",
    "    \n",
    "    EXAMPLE_INP,EXAMPLE_TAR = next(iter(TRAIN_DATA.take(1))),next(iter(TARGET_DATA.take(1)))\n",
    "    \n",
    "    Starting_Time = time.time()\n",
    "    \n",
    "    for epc, (input_image_x,target_x) in enumerate(zip(TRAIN_DATA,TARGET_DATA)):\n",
    "        \n",
    "        if (epc) % 1000 == 0:\n",
    "            \n",
    "            clear_output(wait=True)\n",
    "            \n",
    "            if epc != 0:\n",
    "                print(f'TIME FOR 1000 STEPS: {time.time()-Starting_Time:.2f} sec\\n')\n",
    "                \n",
    "            Starting_Time = time.time()\n",
    "            \n",
    "            generate_images(Generator_Model,EXAMPLE_INP,EXAMPLE_TAR)\n",
    "            \n",
    "        Training_Step(input_image_x,target_x,epc)\n",
    "            \n",
    "        if (epc + 1) % 10 == 0:\n",
    "            print(\"-\",end=\"\",flush=True)"
   ]
  },
  {
   "cell_type": "markdown",
   "metadata": {},
   "source": [
    "# TRAINING"
   ]
  },
  {
   "cell_type": "code",
   "execution_count": null,
   "metadata": {
    "execution": {
     "iopub.execute_input": "2022-02-07T15:27:05.921434Z",
     "iopub.status.busy": "2022-02-07T15:27:05.921155Z",
     "iopub.status.idle": "2022-02-07T15:27:50.199949Z",
     "shell.execute_reply": "2022-02-07T15:27:50.198506Z",
     "shell.execute_reply.started": "2022-02-07T15:27:05.92139Z"
    }
   },
   "outputs": [],
   "source": [
    "EXAMPLE_INP,EXAMPLE_TAR = next(iter(BYZANTINE_TENSOR.take(1))),next(iter(GOTHIC_TENSOR.take(1)))\n",
    "\n",
    "counting_img = 0\n",
    "\n",
    "for epoch in range(EPOCHS):\n",
    "\n",
    "    n = 0\n",
    "    \n",
    "    for image_x, image_y in tf.data.Dataset.zip((BYZANTINE_TENSOR, GOTHIC_TENSOR)):\n",
    "        \n",
    "        Training_Step(image_x, image_y, epoch)\n",
    "        \n",
    "        if n % 10 == 0:\n",
    "            \n",
    "            print ('.', end='')\n",
    "        n += 1\n",
    "\n",
    "    clear_output(wait=True)\n",
    "\n",
    "    generate_images(Generator_Model,\n",
    "                    image_x,\n",
    "                    image_y,\n",
    "                    counting_img)\n",
    "    \n",
    "    generate_images_single(Generator_Model,\n",
    "                           EXAMPLE_INP,\n",
    "                           EXAMPLE_TAR,\n",
    "                           counting_img)\n",
    "    \n",
    "    generate_images_for_example(Generator_Model,\n",
    "                                image_x,\n",
    "                                image_y,\n",
    "                                counting_img)\n",
    "    \n",
    "    counting_img = counting_img + 1"
   ]
  },
  {
   "cell_type": "code",
   "execution_count": null,
   "metadata": {
    "execution": {
     "iopub.status.busy": "2022-02-07T15:27:02.533769Z",
     "iopub.status.idle": "2022-02-07T15:27:02.53424Z",
     "shell.execute_reply": "2022-02-07T15:27:02.534037Z",
     "shell.execute_reply.started": "2022-02-07T15:27:02.534004Z"
    }
   },
   "outputs": [],
   "source": [
    "#Training_Start(BYZANTINE_TENSOR,GOTHIC_TENSOR,EPOCHS) # İF YOU WANT TO USE AS A FUNCTION, RUN THIS LINE INSTEAD OF RUNNING PREVIOUS"
   ]
  },
  {
   "cell_type": "code",
   "execution_count": null,
   "metadata": {
    "execution": {
     "iopub.status.busy": "2022-02-07T15:27:50.201329Z",
     "iopub.status.idle": "2022-02-07T15:27:50.202007Z",
     "shell.execute_reply": "2022-02-07T15:27:50.20179Z",
     "shell.execute_reply.started": "2022-02-07T15:27:50.201767Z"
    }
   },
   "outputs": [],
   "source": [
    "SINGLE_TARGET_PATH = Path(\"./TRIP\")\n",
    "SINGLE_JPG_TARGET = list(SINGLE_TARGET_PATH.glob(r\"*.png\"))\n",
    "SERIES_OUTPUT_TARGET = pd.Series(SINGLE_JPG_TARGET,name=\"SERIES_OUTPUT\").astype(str)"
   ]
  },
  {
   "cell_type": "code",
   "execution_count": null,
   "metadata": {
    "execution": {
     "iopub.status.busy": "2022-02-07T15:26:14.514556Z",
     "iopub.status.idle": "2022-02-07T15:26:14.51519Z",
     "shell.execute_reply": "2022-02-07T15:26:14.514954Z",
     "shell.execute_reply.started": "2022-02-07T15:26:14.514928Z"
    }
   },
   "outputs": [],
   "source": [
    "print(len(SERIES_OUTPUT_TARGET))"
   ]
  },
  {
   "cell_type": "code",
   "execution_count": null,
   "metadata": {
    "execution": {
     "iopub.status.busy": "2022-02-07T15:26:14.516352Z",
     "iopub.status.idle": "2022-02-07T15:26:14.516831Z",
     "shell.execute_reply": "2022-02-07T15:26:14.516586Z",
     "shell.execute_reply.started": "2022-02-07T15:26:14.516563Z"
    }
   },
   "outputs": [],
   "source": [
    "TARGET_PATH_READING = []\n",
    "\n",
    "for x_im in SERIES_OUTPUT_TARGET.values:\n",
    "\n",
    "    IMG_TARGET = cv2.cvtColor(cv2.imread(x_im),cv2.COLOR_BGR2RGB)\n",
    "    TARGET_PATH_READING.append(IMG_TARGET)"
   ]
  },
  {
   "cell_type": "code",
   "execution_count": null,
   "metadata": {
    "execution": {
     "iopub.status.busy": "2022-02-07T15:26:14.518187Z",
     "iopub.status.idle": "2022-02-07T15:26:14.518658Z",
     "shell.execute_reply": "2022-02-07T15:26:14.518431Z",
     "shell.execute_reply.started": "2022-02-07T15:26:14.518408Z"
    }
   },
   "outputs": [],
   "source": [
    "TARGET_PATH_READING = TARGET_PATH_READING[:100]"
   ]
  },
  {
   "cell_type": "code",
   "execution_count": null,
   "metadata": {
    "execution": {
     "iopub.status.busy": "2022-02-07T15:26:14.519685Z",
     "iopub.status.idle": "2022-02-07T15:26:14.520121Z",
     "shell.execute_reply": "2022-02-07T15:26:14.51992Z",
     "shell.execute_reply.started": "2022-02-07T15:26:14.519899Z"
    }
   },
   "outputs": [],
   "source": [
    "def displaying_resource(source):\n",
    "    \n",
    "    figure = plt.figure(figsize=(14,14))\n",
    "    \n",
    "    Image_List = []\n",
    "    plt.style.use(\"dark_background\")\n",
    "    for counting,indexing in enumerate(source):\n",
    "        \n",
    "        \n",
    "        Read_IMG = plt.imshow(indexing, animated=True)\n",
    "        plt.axis('off')\n",
    "        Image_List.append([Read_IMG])\n",
    "\n",
    "    Animation_Func = animation.ArtistAnimation(figure, Image_List, interval=244, repeat_delay=1000)\n",
    "    \n",
    "    plt.close()\n",
    "    \n",
    "    return Animation_Func"
   ]
  },
  {
   "cell_type": "code",
   "execution_count": null,
   "metadata": {
    "execution": {
     "iopub.status.busy": "2022-02-07T15:26:14.521544Z",
     "iopub.status.idle": "2022-02-07T15:26:14.522097Z",
     "shell.execute_reply": "2022-02-07T15:26:14.52185Z",
     "shell.execute_reply.started": "2022-02-07T15:26:14.521826Z"
    }
   },
   "outputs": [],
   "source": [
    "HTML(displaying_resource(TARGET_PATH_READING).to_html5_video())"
   ]
  },
  {
   "cell_type": "code",
   "execution_count": null,
   "metadata": {},
   "outputs": [],
   "source": []
  }
 ],
 "metadata": {
  "kernelspec": {
   "display_name": "Python 3",
   "language": "python",
   "name": "python3"
  },
  "language_info": {
   "codemirror_mode": {
    "name": "ipython",
    "version": 3
   },
   "file_extension": ".py",
   "mimetype": "text/x-python",
   "name": "python",
   "nbconvert_exporter": "python",
   "pygments_lexer": "ipython3",
   "version": "3.8.8"
  }
 },
 "nbformat": 4,
 "nbformat_minor": 4
}
